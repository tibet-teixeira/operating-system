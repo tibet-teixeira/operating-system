{
 "cells": [
  {
   "cell_type": "code",
   "execution_count": 1,
   "id": "hazardous-chambers",
   "metadata": {},
   "outputs": [],
   "source": [
    "import pandas as pd\n",
    "import matplotlib.pyplot as plt; plt.rcdefaults()\n",
    "import numpy as np\n",
    "import matplotlib.pyplot as plt"
   ]
  },
  {
   "cell_type": "code",
   "execution_count": 2,
   "id": "traditional-spirit",
   "metadata": {
    "scrolled": true
   },
   "outputs": [],
   "source": [
    "fcfs = pd.read_csv ('result/statistic_FCFS_1.csv')\n",
    "priority = pd.read_csv('result/statistic_PRIORITY_1.csv')\n",
    "priorityp = pd.read_csv('result/statistic_PRIORITYP_1.csv')\n",
    "rr2 = pd.read_csv('result/statistic_RR_quantum_2.csv')\n",
    "rr5 = pd.read_csv('result/statistic_RR_quantum_5.csv')\n",
    "rr10 = pd.read_csv('result/statistic_RR_quantum_10.csv')\n",
    "sjf = pd.read_csv('result/statistic_SJF_1.csv')\n",
    "sjfp = pd.read_csv('result/statistic_SJFP_1.csv')"
   ]
  },
  {
   "cell_type": "code",
   "execution_count": 25,
   "id": "voluntary-chapter",
   "metadata": {},
   "outputs": [
    {
     "data": {
      "text/html": [
       "<div>\n",
       "<style scoped>\n",
       "    .dataframe tbody tr th:only-of-type {\n",
       "        vertical-align: middle;\n",
       "    }\n",
       "\n",
       "    .dataframe tbody tr th {\n",
       "        vertical-align: top;\n",
       "    }\n",
       "\n",
       "    .dataframe thead th {\n",
       "        text-align: right;\n",
       "    }\n",
       "</style>\n",
       "<table border=\"1\" class=\"dataframe\">\n",
       "  <thead>\n",
       "    <tr style=\"text-align: right;\">\n",
       "      <th></th>\n",
       "      <th>time_total</th>\n",
       "      <th>cpu_usage</th>\n",
       "      <th>throughput_mean</th>\n",
       "      <th>turnaround_mean</th>\n",
       "      <th>waiting_time_mean</th>\n",
       "      <th>response_time_mean</th>\n",
       "      <th>context_switch_mean</th>\n",
       "      <th>number_of_processes</th>\n",
       "    </tr>\n",
       "  </thead>\n",
       "  <tbody>\n",
       "    <tr>\n",
       "      <th>0</th>\n",
       "      <td>16.0</td>\n",
       "      <td>81.250000</td>\n",
       "      <td>1.0</td>\n",
       "      <td>8.75</td>\n",
       "      <td>4.75</td>\n",
       "      <td>4.75</td>\n",
       "      <td>0.187500</td>\n",
       "      <td>4.0</td>\n",
       "    </tr>\n",
       "    <tr>\n",
       "      <th>1</th>\n",
       "      <td>30.0</td>\n",
       "      <td>93.333336</td>\n",
       "      <td>1.0</td>\n",
       "      <td>13.00</td>\n",
       "      <td>3.00</td>\n",
       "      <td>3.00</td>\n",
       "      <td>0.066667</td>\n",
       "      <td>3.0</td>\n",
       "    </tr>\n",
       "    <tr>\n",
       "      <th>2</th>\n",
       "      <td>162.0</td>\n",
       "      <td>98.148150</td>\n",
       "      <td>1.0</td>\n",
       "      <td>105.75</td>\n",
       "      <td>65.25</td>\n",
       "      <td>65.25</td>\n",
       "      <td>0.018519</td>\n",
       "      <td>4.0</td>\n",
       "    </tr>\n",
       "  </tbody>\n",
       "</table>\n",
       "</div>"
      ],
      "text/plain": [
       "   time_total  cpu_usage  throughput_mean  turnaround_mean  waiting_time_mean  \\\n",
       "0        16.0  81.250000              1.0             8.75               4.75   \n",
       "1        30.0  93.333336              1.0            13.00               3.00   \n",
       "2       162.0  98.148150              1.0           105.75              65.25   \n",
       "\n",
       "   response_time_mean  context_switch_mean  number_of_processes  \n",
       "0                4.75             0.187500                  4.0  \n",
       "1                3.00             0.066667                  3.0  \n",
       "2               65.25             0.018519                  4.0  "
      ]
     },
     "execution_count": 25,
     "metadata": {},
     "output_type": "execute_result"
    }
   ],
   "source": [
    "fcfs"
   ]
  },
  {
   "cell_type": "code",
   "execution_count": 26,
   "id": "designed-optics",
   "metadata": {},
   "outputs": [
    {
     "data": {
      "text/html": [
       "<div>\n",
       "<style scoped>\n",
       "    .dataframe tbody tr th:only-of-type {\n",
       "        vertical-align: middle;\n",
       "    }\n",
       "\n",
       "    .dataframe tbody tr th {\n",
       "        vertical-align: top;\n",
       "    }\n",
       "\n",
       "    .dataframe thead th {\n",
       "        text-align: right;\n",
       "    }\n",
       "</style>\n",
       "<table border=\"1\" class=\"dataframe\">\n",
       "  <thead>\n",
       "    <tr style=\"text-align: right;\">\n",
       "      <th></th>\n",
       "      <th>time_total</th>\n",
       "      <th>cpu_usage</th>\n",
       "      <th>throughput_mean</th>\n",
       "      <th>turnaround_mean</th>\n",
       "      <th>waiting_time_mean</th>\n",
       "      <th>response_time_mean</th>\n",
       "      <th>context_switch_mean</th>\n",
       "      <th>number_of_processes</th>\n",
       "    </tr>\n",
       "  </thead>\n",
       "  <tbody>\n",
       "    <tr>\n",
       "      <th>0</th>\n",
       "      <td>16.0</td>\n",
       "      <td>81.250000</td>\n",
       "      <td>1.0</td>\n",
       "      <td>8.75</td>\n",
       "      <td>4.75</td>\n",
       "      <td>4.75</td>\n",
       "      <td>0.187500</td>\n",
       "      <td>4.0</td>\n",
       "    </tr>\n",
       "    <tr>\n",
       "      <th>1</th>\n",
       "      <td>30.0</td>\n",
       "      <td>93.333336</td>\n",
       "      <td>1.0</td>\n",
       "      <td>13.00</td>\n",
       "      <td>3.00</td>\n",
       "      <td>3.00</td>\n",
       "      <td>0.066667</td>\n",
       "      <td>3.0</td>\n",
       "    </tr>\n",
       "    <tr>\n",
       "      <th>2</th>\n",
       "      <td>162.0</td>\n",
       "      <td>98.148150</td>\n",
       "      <td>1.0</td>\n",
       "      <td>105.75</td>\n",
       "      <td>65.25</td>\n",
       "      <td>65.25</td>\n",
       "      <td>0.018519</td>\n",
       "      <td>4.0</td>\n",
       "    </tr>\n",
       "  </tbody>\n",
       "</table>\n",
       "</div>"
      ],
      "text/plain": [
       "   time_total  cpu_usage  throughput_mean  turnaround_mean  waiting_time_mean  \\\n",
       "0        16.0  81.250000              1.0             8.75               4.75   \n",
       "1        30.0  93.333336              1.0            13.00               3.00   \n",
       "2       162.0  98.148150              1.0           105.75              65.25   \n",
       "\n",
       "   response_time_mean  context_switch_mean  number_of_processes  \n",
       "0                4.75             0.187500                  4.0  \n",
       "1                3.00             0.066667                  3.0  \n",
       "2               65.25             0.018519                  4.0  "
      ]
     },
     "execution_count": 26,
     "metadata": {},
     "output_type": "execute_result"
    }
   ],
   "source": [
    "priority"
   ]
  },
  {
   "cell_type": "code",
   "execution_count": 27,
   "id": "fifth-passion",
   "metadata": {},
   "outputs": [
    {
     "data": {
      "text/html": [
       "<div>\n",
       "<style scoped>\n",
       "    .dataframe tbody tr th:only-of-type {\n",
       "        vertical-align: middle;\n",
       "    }\n",
       "\n",
       "    .dataframe tbody tr th {\n",
       "        vertical-align: top;\n",
       "    }\n",
       "\n",
       "    .dataframe thead th {\n",
       "        text-align: right;\n",
       "    }\n",
       "</style>\n",
       "<table border=\"1\" class=\"dataframe\">\n",
       "  <thead>\n",
       "    <tr style=\"text-align: right;\">\n",
       "      <th></th>\n",
       "      <th>time_total</th>\n",
       "      <th>cpu_usage</th>\n",
       "      <th>throughput_mean</th>\n",
       "      <th>turnaround_mean</th>\n",
       "      <th>waiting_time_mean</th>\n",
       "      <th>response_time_mean</th>\n",
       "      <th>context_switch_mean</th>\n",
       "      <th>number_of_processes</th>\n",
       "    </tr>\n",
       "  </thead>\n",
       "  <tbody>\n",
       "    <tr>\n",
       "      <th>0</th>\n",
       "      <td>162.0</td>\n",
       "      <td>9.876543</td>\n",
       "      <td>1.0</td>\n",
       "      <td>115.750000</td>\n",
       "      <td>75.250000</td>\n",
       "      <td>1.5</td>\n",
       "      <td>0.901235</td>\n",
       "      <td>4.0</td>\n",
       "    </tr>\n",
       "    <tr>\n",
       "      <th>1</th>\n",
       "      <td>16.0</td>\n",
       "      <td>12.500000</td>\n",
       "      <td>1.0</td>\n",
       "      <td>9.500000</td>\n",
       "      <td>5.500000</td>\n",
       "      <td>0.0</td>\n",
       "      <td>0.875000</td>\n",
       "      <td>4.0</td>\n",
       "    </tr>\n",
       "    <tr>\n",
       "      <th>2</th>\n",
       "      <td>30.0</td>\n",
       "      <td>70.000000</td>\n",
       "      <td>1.0</td>\n",
       "      <td>15.666667</td>\n",
       "      <td>5.666666</td>\n",
       "      <td>1.0</td>\n",
       "      <td>0.300000</td>\n",
       "      <td>3.0</td>\n",
       "    </tr>\n",
       "  </tbody>\n",
       "</table>\n",
       "</div>"
      ],
      "text/plain": [
       "   time_total  cpu_usage  throughput_mean  turnaround_mean  waiting_time_mean  \\\n",
       "0       162.0   9.876543              1.0       115.750000          75.250000   \n",
       "1        16.0  12.500000              1.0         9.500000           5.500000   \n",
       "2        30.0  70.000000              1.0        15.666667           5.666666   \n",
       "\n",
       "   response_time_mean  context_switch_mean  number_of_processes  \n",
       "0                 1.5             0.901235                  4.0  \n",
       "1                 0.0             0.875000                  4.0  \n",
       "2                 1.0             0.300000                  3.0  "
      ]
     },
     "execution_count": 27,
     "metadata": {},
     "output_type": "execute_result"
    }
   ],
   "source": [
    "priorityp"
   ]
  },
  {
   "cell_type": "code",
   "execution_count": 28,
   "id": "natural-myrtle",
   "metadata": {},
   "outputs": [
    {
     "data": {
      "text/html": [
       "<div>\n",
       "<style scoped>\n",
       "    .dataframe tbody tr th:only-of-type {\n",
       "        vertical-align: middle;\n",
       "    }\n",
       "\n",
       "    .dataframe tbody tr th {\n",
       "        vertical-align: top;\n",
       "    }\n",
       "\n",
       "    .dataframe thead th {\n",
       "        text-align: right;\n",
       "    }\n",
       "</style>\n",
       "<table border=\"1\" class=\"dataframe\">\n",
       "  <thead>\n",
       "    <tr style=\"text-align: right;\">\n",
       "      <th></th>\n",
       "      <th>time_total</th>\n",
       "      <th>cpu_usage</th>\n",
       "      <th>throughput_mean</th>\n",
       "      <th>turnaround_mean</th>\n",
       "      <th>waiting_time_mean</th>\n",
       "      <th>response_time_mean</th>\n",
       "      <th>context_switch_mean</th>\n",
       "      <th>number_of_processes</th>\n",
       "    </tr>\n",
       "  </thead>\n",
       "  <tbody>\n",
       "    <tr>\n",
       "      <th>0</th>\n",
       "      <td>29.0</td>\n",
       "      <td>68.965515</td>\n",
       "      <td>1.0</td>\n",
       "      <td>8.6</td>\n",
       "      <td>2.8</td>\n",
       "      <td>0.4</td>\n",
       "      <td>0.310345</td>\n",
       "      <td>5.0</td>\n",
       "    </tr>\n",
       "    <tr>\n",
       "      <th>1</th>\n",
       "      <td>16.0</td>\n",
       "      <td>56.250000</td>\n",
       "      <td>1.0</td>\n",
       "      <td>8.5</td>\n",
       "      <td>4.5</td>\n",
       "      <td>0.0</td>\n",
       "      <td>0.437500</td>\n",
       "      <td>4.0</td>\n",
       "    </tr>\n",
       "    <tr>\n",
       "      <th>2</th>\n",
       "      <td>30.0</td>\n",
       "      <td>83.333330</td>\n",
       "      <td>1.0</td>\n",
       "      <td>15.0</td>\n",
       "      <td>5.0</td>\n",
       "      <td>2.0</td>\n",
       "      <td>0.166667</td>\n",
       "      <td>3.0</td>\n",
       "    </tr>\n",
       "  </tbody>\n",
       "</table>\n",
       "</div>"
      ],
      "text/plain": [
       "   time_total  cpu_usage  throughput_mean  turnaround_mean  waiting_time_mean  \\\n",
       "0        29.0  68.965515              1.0              8.6                2.8   \n",
       "1        16.0  56.250000              1.0              8.5                4.5   \n",
       "2        30.0  83.333330              1.0             15.0                5.0   \n",
       "\n",
       "   response_time_mean  context_switch_mean  number_of_processes  \n",
       "0                 0.4             0.310345                  5.0  \n",
       "1                 0.0             0.437500                  4.0  \n",
       "2                 2.0             0.166667                  3.0  "
      ]
     },
     "execution_count": 28,
     "metadata": {},
     "output_type": "execute_result"
    }
   ],
   "source": [
    "rr2"
   ]
  },
  {
   "cell_type": "code",
   "execution_count": 29,
   "id": "israeli-lending",
   "metadata": {},
   "outputs": [
    {
     "data": {
      "text/html": [
       "<div>\n",
       "<style scoped>\n",
       "    .dataframe tbody tr th:only-of-type {\n",
       "        vertical-align: middle;\n",
       "    }\n",
       "\n",
       "    .dataframe tbody tr th {\n",
       "        vertical-align: top;\n",
       "    }\n",
       "\n",
       "    .dataframe thead th {\n",
       "        text-align: right;\n",
       "    }\n",
       "</style>\n",
       "<table border=\"1\" class=\"dataframe\">\n",
       "  <thead>\n",
       "    <tr style=\"text-align: right;\">\n",
       "      <th></th>\n",
       "      <th>time_total</th>\n",
       "      <th>cpu_usage</th>\n",
       "      <th>throughput_mean</th>\n",
       "      <th>turnaround_mean</th>\n",
       "      <th>waiting_time_mean</th>\n",
       "      <th>response_time_mean</th>\n",
       "      <th>context_switch_mean</th>\n",
       "      <th>number_of_processes</th>\n",
       "    </tr>\n",
       "  </thead>\n",
       "  <tbody>\n",
       "    <tr>\n",
       "      <th>0</th>\n",
       "      <td>29.0</td>\n",
       "      <td>82.758620</td>\n",
       "      <td>1.0</td>\n",
       "      <td>9.0</td>\n",
       "      <td>3.2</td>\n",
       "      <td>3.00</td>\n",
       "      <td>0.172414</td>\n",
       "      <td>5.0</td>\n",
       "    </tr>\n",
       "    <tr>\n",
       "      <th>1</th>\n",
       "      <td>30.0</td>\n",
       "      <td>93.333336</td>\n",
       "      <td>1.0</td>\n",
       "      <td>13.0</td>\n",
       "      <td>3.0</td>\n",
       "      <td>3.00</td>\n",
       "      <td>0.066667</td>\n",
       "      <td>3.0</td>\n",
       "    </tr>\n",
       "    <tr>\n",
       "      <th>2</th>\n",
       "      <td>16.0</td>\n",
       "      <td>75.000000</td>\n",
       "      <td>1.0</td>\n",
       "      <td>9.5</td>\n",
       "      <td>5.5</td>\n",
       "      <td>3.25</td>\n",
       "      <td>0.250000</td>\n",
       "      <td>4.0</td>\n",
       "    </tr>\n",
       "  </tbody>\n",
       "</table>\n",
       "</div>"
      ],
      "text/plain": [
       "   time_total  cpu_usage  throughput_mean  turnaround_mean  waiting_time_mean  \\\n",
       "0        29.0  82.758620              1.0              9.0                3.2   \n",
       "1        30.0  93.333336              1.0             13.0                3.0   \n",
       "2        16.0  75.000000              1.0              9.5                5.5   \n",
       "\n",
       "   response_time_mean  context_switch_mean  number_of_processes  \n",
       "0                3.00             0.172414                  5.0  \n",
       "1                3.00             0.066667                  3.0  \n",
       "2                3.25             0.250000                  4.0  "
      ]
     },
     "execution_count": 29,
     "metadata": {},
     "output_type": "execute_result"
    }
   ],
   "source": [
    "rr5"
   ]
  },
  {
   "cell_type": "code",
   "execution_count": 30,
   "id": "threatened-cooperative",
   "metadata": {},
   "outputs": [
    {
     "data": {
      "text/html": [
       "<div>\n",
       "<style scoped>\n",
       "    .dataframe tbody tr th:only-of-type {\n",
       "        vertical-align: middle;\n",
       "    }\n",
       "\n",
       "    .dataframe tbody tr th {\n",
       "        vertical-align: top;\n",
       "    }\n",
       "\n",
       "    .dataframe thead th {\n",
       "        text-align: right;\n",
       "    }\n",
       "</style>\n",
       "<table border=\"1\" class=\"dataframe\">\n",
       "  <thead>\n",
       "    <tr style=\"text-align: right;\">\n",
       "      <th></th>\n",
       "      <th>time_total</th>\n",
       "      <th>cpu_usage</th>\n",
       "      <th>throughput_mean</th>\n",
       "      <th>turnaround_mean</th>\n",
       "      <th>waiting_time_mean</th>\n",
       "      <th>response_time_mean</th>\n",
       "      <th>context_switch_mean</th>\n",
       "      <th>number_of_processes</th>\n",
       "    </tr>\n",
       "  </thead>\n",
       "  <tbody>\n",
       "    <tr>\n",
       "      <th>0</th>\n",
       "      <td>29.0</td>\n",
       "      <td>86.206894</td>\n",
       "      <td>1.0</td>\n",
       "      <td>9.80</td>\n",
       "      <td>4.00</td>\n",
       "      <td>4.00</td>\n",
       "      <td>0.137931</td>\n",
       "      <td>5.0</td>\n",
       "    </tr>\n",
       "    <tr>\n",
       "      <th>1</th>\n",
       "      <td>30.0</td>\n",
       "      <td>93.333336</td>\n",
       "      <td>1.0</td>\n",
       "      <td>13.00</td>\n",
       "      <td>3.00</td>\n",
       "      <td>3.00</td>\n",
       "      <td>0.066667</td>\n",
       "      <td>3.0</td>\n",
       "    </tr>\n",
       "    <tr>\n",
       "      <th>2</th>\n",
       "      <td>16.0</td>\n",
       "      <td>81.250000</td>\n",
       "      <td>1.0</td>\n",
       "      <td>8.75</td>\n",
       "      <td>4.75</td>\n",
       "      <td>4.75</td>\n",
       "      <td>0.187500</td>\n",
       "      <td>4.0</td>\n",
       "    </tr>\n",
       "  </tbody>\n",
       "</table>\n",
       "</div>"
      ],
      "text/plain": [
       "   time_total  cpu_usage  throughput_mean  turnaround_mean  waiting_time_mean  \\\n",
       "0        29.0  86.206894              1.0             9.80               4.00   \n",
       "1        30.0  93.333336              1.0            13.00               3.00   \n",
       "2        16.0  81.250000              1.0             8.75               4.75   \n",
       "\n",
       "   response_time_mean  context_switch_mean  number_of_processes  \n",
       "0                4.00             0.137931                  5.0  \n",
       "1                3.00             0.066667                  3.0  \n",
       "2                4.75             0.187500                  4.0  "
      ]
     },
     "execution_count": 30,
     "metadata": {},
     "output_type": "execute_result"
    }
   ],
   "source": [
    "rr10"
   ]
  },
  {
   "cell_type": "code",
   "execution_count": 31,
   "id": "artistic-panama",
   "metadata": {},
   "outputs": [
    {
     "data": {
      "text/html": [
       "<div>\n",
       "<style scoped>\n",
       "    .dataframe tbody tr th:only-of-type {\n",
       "        vertical-align: middle;\n",
       "    }\n",
       "\n",
       "    .dataframe tbody tr th {\n",
       "        vertical-align: top;\n",
       "    }\n",
       "\n",
       "    .dataframe thead th {\n",
       "        text-align: right;\n",
       "    }\n",
       "</style>\n",
       "<table border=\"1\" class=\"dataframe\">\n",
       "  <thead>\n",
       "    <tr style=\"text-align: right;\">\n",
       "      <th></th>\n",
       "      <th>time_total</th>\n",
       "      <th>cpu_usage</th>\n",
       "      <th>throughput_mean</th>\n",
       "      <th>turnaround_mean</th>\n",
       "      <th>waiting_time_mean</th>\n",
       "      <th>response_time_mean</th>\n",
       "      <th>context_switch_mean</th>\n",
       "      <th>number_of_processes</th>\n",
       "    </tr>\n",
       "  </thead>\n",
       "  <tbody>\n",
       "    <tr>\n",
       "      <th>0</th>\n",
       "      <td>16.0</td>\n",
       "      <td>81.250000</td>\n",
       "      <td>1.0</td>\n",
       "      <td>8.0</td>\n",
       "      <td>4.0</td>\n",
       "      <td>4.0</td>\n",
       "      <td>0.187500</td>\n",
       "      <td>4.0</td>\n",
       "    </tr>\n",
       "    <tr>\n",
       "      <th>1</th>\n",
       "      <td>30.0</td>\n",
       "      <td>93.333336</td>\n",
       "      <td>1.0</td>\n",
       "      <td>13.0</td>\n",
       "      <td>3.0</td>\n",
       "      <td>3.0</td>\n",
       "      <td>0.066667</td>\n",
       "      <td>3.0</td>\n",
       "    </tr>\n",
       "    <tr>\n",
       "      <th>2</th>\n",
       "      <td>29.0</td>\n",
       "      <td>86.206894</td>\n",
       "      <td>1.0</td>\n",
       "      <td>9.8</td>\n",
       "      <td>4.0</td>\n",
       "      <td>4.0</td>\n",
       "      <td>0.137931</td>\n",
       "      <td>5.0</td>\n",
       "    </tr>\n",
       "  </tbody>\n",
       "</table>\n",
       "</div>"
      ],
      "text/plain": [
       "   time_total  cpu_usage  throughput_mean  turnaround_mean  waiting_time_mean  \\\n",
       "0        16.0  81.250000              1.0              8.0                4.0   \n",
       "1        30.0  93.333336              1.0             13.0                3.0   \n",
       "2        29.0  86.206894              1.0              9.8                4.0   \n",
       "\n",
       "   response_time_mean  context_switch_mean  number_of_processes  \n",
       "0                 4.0             0.187500                  4.0  \n",
       "1                 3.0             0.066667                  3.0  \n",
       "2                 4.0             0.137931                  5.0  "
      ]
     },
     "execution_count": 31,
     "metadata": {},
     "output_type": "execute_result"
    }
   ],
   "source": [
    "sjf"
   ]
  },
  {
   "cell_type": "code",
   "execution_count": 32,
   "id": "simple-fluid",
   "metadata": {},
   "outputs": [
    {
     "data": {
      "text/html": [
       "<div>\n",
       "<style scoped>\n",
       "    .dataframe tbody tr th:only-of-type {\n",
       "        vertical-align: middle;\n",
       "    }\n",
       "\n",
       "    .dataframe tbody tr th {\n",
       "        vertical-align: top;\n",
       "    }\n",
       "\n",
       "    .dataframe thead th {\n",
       "        text-align: right;\n",
       "    }\n",
       "</style>\n",
       "<table border=\"1\" class=\"dataframe\">\n",
       "  <thead>\n",
       "    <tr style=\"text-align: right;\">\n",
       "      <th></th>\n",
       "      <th>time_total</th>\n",
       "      <th>cpu_usage</th>\n",
       "      <th>throughput_mean</th>\n",
       "      <th>turnaround_mean</th>\n",
       "      <th>waiting_time_mean</th>\n",
       "      <th>response_time_mean</th>\n",
       "      <th>context_switch_mean</th>\n",
       "      <th>number_of_processes</th>\n",
       "    </tr>\n",
       "  </thead>\n",
       "  <tbody>\n",
       "    <tr>\n",
       "      <th>0</th>\n",
       "      <td>29.0</td>\n",
       "      <td>79.31035</td>\n",
       "      <td>1.0</td>\n",
       "      <td>7.8</td>\n",
       "      <td>2.0</td>\n",
       "      <td>1.2</td>\n",
       "      <td>0.206897</td>\n",
       "      <td>5.0</td>\n",
       "    </tr>\n",
       "    <tr>\n",
       "      <th>1</th>\n",
       "      <td>162.0</td>\n",
       "      <td>98.14815</td>\n",
       "      <td>1.0</td>\n",
       "      <td>78.5</td>\n",
       "      <td>38.0</td>\n",
       "      <td>38.0</td>\n",
       "      <td>0.018519</td>\n",
       "      <td>4.0</td>\n",
       "    </tr>\n",
       "    <tr>\n",
       "      <th>2</th>\n",
       "      <td>16.0</td>\n",
       "      <td>68.75000</td>\n",
       "      <td>1.0</td>\n",
       "      <td>7.0</td>\n",
       "      <td>3.0</td>\n",
       "      <td>0.5</td>\n",
       "      <td>0.312500</td>\n",
       "      <td>4.0</td>\n",
       "    </tr>\n",
       "  </tbody>\n",
       "</table>\n",
       "</div>"
      ],
      "text/plain": [
       "   time_total  cpu_usage  throughput_mean  turnaround_mean  waiting_time_mean  \\\n",
       "0        29.0   79.31035              1.0              7.8                2.0   \n",
       "1       162.0   98.14815              1.0             78.5               38.0   \n",
       "2        16.0   68.75000              1.0              7.0                3.0   \n",
       "\n",
       "   response_time_mean  context_switch_mean  number_of_processes  \n",
       "0                 1.2             0.206897                  5.0  \n",
       "1                38.0             0.018519                  4.0  \n",
       "2                 0.5             0.312500                  4.0  "
      ]
     },
     "execution_count": 32,
     "metadata": {},
     "output_type": "execute_result"
    }
   ],
   "source": [
    "sjfp"
   ]
  },
  {
   "cell_type": "code",
   "execution_count": 4,
   "id": "precise-serbia",
   "metadata": {},
   "outputs": [
    {
     "data": {
      "text/plain": [
       "23.0"
      ]
     },
     "execution_count": 4,
     "metadata": {},
     "output_type": "execute_result"
    }
   ],
   "source": [
    "fcfs[\"time_total\"].mean()"
   ]
  },
  {
   "cell_type": "code",
   "execution_count": 5,
   "id": "genuine-simon",
   "metadata": {},
   "outputs": [],
   "source": [
    "total_time = [fcfs[\"time_total\"].mean(), priority[\"time_total\"].mean(), priorityp[\"time_total\"].mean(), rr2[\"time_total\"].mean(), rr5[\"time_total\"].mean(), rr10[\"time_total\"].mean(), sjf[\"time_total\"].mean(),sjfp[\"time_total\"].mean()]\n",
    "cpu_usage =  [fcfs[\"cpu_usage\"].mean(), priority[\"cpu_usage\"].mean(), priorityp[\"cpu_usage\"].mean(), rr2[\"cpu_usage\"].mean(), rr5[\"cpu_usage\"].mean(), rr10[\"cpu_usage\"].mean(), sjf[\"cpu_usage\"].mean(),sjfp[\"cpu_usage\"].mean()]\n",
    "throughput_mean = [fcfs[\"throughput_mean\"].mean(), priority[\"throughput_mean\"].mean(), priorityp[\"throughput_mean\"].mean(), rr2[\"throughput_mean\"].mean(), rr5[\"throughput_mean\"].mean(), rr10[\"throughput_mean\"].mean(), sjf[\"throughput_mean\"].mean(),sjfp[\"throughput_mean\"].mean()]\n",
    "turnaround_mean = [fcfs[\"turnaround_mean\"].mean(), priority[\"turnaround_mean\"].mean(), priorityp[\"turnaround_mean\"].mean(), rr2[\"turnaround_mean\"].mean(), rr5[\"turnaround_mean\"].mean(), rr10[\"turnaround_mean\"].mean(), sjf[\"turnaround_mean\"].mean(),sjfp[\"turnaround_mean\"].mean()]\n",
    "waiting_time_mean = [fcfs[\"waiting_time_mean\"].mean(), priority[\"waiting_time_mean\"].mean(), priorityp[\"waiting_time_mean\"].mean(), rr2[\"waiting_time_mean\"].mean(), rr5[\"waiting_time_mean\"].mean(), rr10[\"waiting_time_mean\"].mean(), sjf[\"waiting_time_mean\"].mean(),sjfp[\"waiting_time_mean\"].mean()]\n",
    "response_time_mean = [fcfs[\"response_time_mean\"].mean(), priority[\"response_time_mean\"].mean(), priorityp[\"response_time_mean\"].mean(), rr2[\"response_time_mean\"].mean(), rr5[\"response_time_mean\"].mean(), rr10[\"response_time_mean\"].mean(), sjf[\"response_time_mean\"].mean(),sjfp[\"response_time_mean\"].mean()]\n",
    "context_switch_mean = [fcfs[\"context_switch_mean\"].mean(), priority[\"context_switch_mean\"].mean(), priorityp[\"context_switch_mean\"].mean(), rr2[\"context_switch_mean\"].mean(), rr5[\"context_switch_mean\"].mean(), rr10[\"context_switch_mean\"].mean(), sjf[\"context_switch_mean\"].mean(),sjfp[\"context_switch_mean\"].mean()]\n",
    "number_of_processes = [fcfs[\"number_of_processes\"].mean(), priority[\"number_of_processes\"].mean(), priorityp[\"number_of_processes\"].mean(), rr2[\"number_of_processes\"].mean(), rr5[\"number_of_processes\"].mean(), rr10[\"number_of_processes\"].mean(), sjf[\"number_of_processes\"].mean(),sjfp[\"number_of_processes\"].mean()]"
   ]
  },
  {
   "cell_type": "code",
   "execution_count": 6,
   "id": "lyric-matrix",
   "metadata": {},
   "outputs": [
    {
     "data": {
      "text/plain": [
       "[3.5,\n",
       " 3.6666666666666665,\n",
       " 3.6666666666666665,\n",
       " 4.0,\n",
       " 4.0,\n",
       " 4.0,\n",
       " 4.0,\n",
       " 4.333333333333333]"
      ]
     },
     "execution_count": 6,
     "metadata": {},
     "output_type": "execute_result"
    }
   ],
   "source": [
    "number_of_processes"
   ]
  },
  {
   "cell_type": "code",
   "execution_count": 17,
   "id": "changing-sterling",
   "metadata": {},
   "outputs": [
    {
     "data": {
      "image/png": "[encoded data removed]",
      "text/plain": [
       "<Figure size 640x480 with 1 Axes>"
      ]
     },
     "metadata": {},
     "output_type": "display_data"
    }
   ],
   "source": [
    "objects = ('FCFS', 'Priority', 'PriorityP', 'RR 2', 'RR 5', 'RR 10', 'SJF', 'SJFP')\n",
    "\n",
    "y_pos = np.arange(len(objects))\n",
    "\n",
    "\n",
    "plt.bar(y_pos, total_time, align='center', alpha=0.5)\n",
    "plt.xticks(y_pos, objects)\n",
    "plt.ylabel('Time in ms')\n",
    "plt.title('Total Time')\n",
    "\n",
    "plt.show()"
   ]
  },
  {
   "cell_type": "code",
   "execution_count": 18,
   "id": "anonymous-supervisor",
   "metadata": {},
   "outputs": [
    {
     "data": {
      "image/png": "[encoded data removed]",
      "text/plain": [
       "<Figure size 640x480 with 1 Axes>"
      ]
     },
     "metadata": {},
     "output_type": "display_data"
    }
   ],
   "source": [
    "objects = ('FCFS', 'Priority', 'PriorityP', 'RR 2', 'RR 5', 'RR 10', 'SJF', 'SJFP')\n",
    "\n",
    "\n",
    "y_pos = np.arange(len(objects))\n",
    "\n",
    "\n",
    "plt.bar(y_pos, cpu_usage, align='center', alpha=0.5)\n",
    "plt.xticks(y_pos, objects)\n",
    "plt.ylabel('%')\n",
    "plt.title('CPU usage')\n",
    "\n",
    "plt.show()"
   ]
  },
  {
   "cell_type": "code",
   "execution_count": 19,
   "id": "successful-content",
   "metadata": {},
   "outputs": [
    {
     "data": {
      "image/png": "[encoded data removed]",
      "text/plain": [
       "<Figure size 640x480 with 1 Axes>"
      ]
     },
     "metadata": {},
     "output_type": "display_data"
    }
   ],
   "source": [
    "objects = ('FCFS', 'Priority', 'PriorityP', 'RR 2', 'RR 5', 'RR 10', 'SJF', 'SJFP')\n",
    "\n",
    "\n",
    "y_pos = np.arange(len(objects))\n",
    "\n",
    "\n",
    "plt.bar(y_pos, throughput_mean, align='center', alpha=0.5)\n",
    "plt.xticks(y_pos, objects)\n",
    "plt.ylabel('Time in ms')\n",
    "plt.title('Throughput')\n",
    "\n",
    "plt.show()"
   ]
  },
  {
   "cell_type": "code",
   "execution_count": 20,
   "id": "technical-infrared",
   "metadata": {},
   "outputs": [
    {
     "data": {
      "image/png": "[encoded data removed]",
      "text/plain": [
       "<Figure size 640x480 with 1 Axes>"
      ]
     },
     "metadata": {},
     "output_type": "display_data"
    }
   ],
   "source": [
    "objects = ('FCFS', 'Priority', 'PriorityP', 'RR 2', 'RR 5', 'RR 10', 'SJF', 'SJFP')\n",
    "\n",
    "\n",
    "y_pos = np.arange(len(objects))\n",
    "\n",
    "\n",
    "plt.bar(y_pos, turnaround_mean, align='center', alpha=0.5)\n",
    "plt.xticks(y_pos, objects)\n",
    "plt.ylabel('Time in ms')\n",
    "plt.title('Turnaround')\n",
    "\n",
    "plt.show()"
   ]
  },
  {
   "cell_type": "code",
   "execution_count": 21,
   "id": "multiple-venue",
   "metadata": {},
   "outputs": [
    {
     "data": {
      "image/png": "[encoded data removed]",
      "text/plain": [
       "<Figure size 640x480 with 1 Axes>"
      ]
     },
     "metadata": {},
     "output_type": "display_data"
    }
   ],
   "source": [
    "objects = ('FCFS', 'Priority', 'PriorityP', 'RR 2', 'RR 5', 'RR 10', 'SJF', 'SJFP')\n",
    "\n",
    "\n",
    "y_pos = np.arange(len(objects))\n",
    "\n",
    "\n",
    "plt.bar(y_pos, waiting_time_mean, align='center', alpha=0.5)\n",
    "plt.xticks(y_pos, objects)\n",
    "plt.ylabel('Time in TU')\n",
    "plt.title('Waiting time')\n",
    "\n",
    "plt.show()"
   ]
  },
  {
   "cell_type": "code",
   "execution_count": 22,
   "id": "german-expression",
   "metadata": {},
   "outputs": [
    {
     "data": {
      "image/png": "[encoded data removed]",
      "text/plain": [
       "<Figure size 640x480 with 1 Axes>"
      ]
     },
     "metadata": {},
     "output_type": "display_data"
    }
   ],
   "source": [
    "objects = ('FCFS', 'Priority', 'PriorityP', 'RR 2', 'RR 5', 'RR 10', 'SJF', 'SJFP')\n",
    "\n",
    "\n",
    "y_pos = np.arange(len(objects))\n",
    "\n",
    "\n",
    "plt.bar(y_pos, response_time_mean, align='center', alpha=0.5)\n",
    "plt.xticks(y_pos, objects)\n",
    "plt.ylabel('Time in TU')\n",
    "plt.title('Response time')\n",
    "\n",
    "plt.show()"
   ]
  },
  {
   "cell_type": "code",
   "execution_count": 23,
   "id": "quarterly-context",
   "metadata": {},
   "outputs": [
    {
     "data": {
      "image/png": "[encoded data removed]",
      "text/plain": [
       "<Figure size 640x480 with 1 Axes>"
      ]
     },
     "metadata": {},
     "output_type": "display_data"
    }
   ],
   "source": [
    "objects = ('FCFS', 'Priority', 'PriorityP', 'RR 2', 'RR 5', 'RR 10', 'SJF', 'SJFP')\n",
    "\n",
    "\n",
    "y_pos = np.arange(len(objects))\n",
    "\n",
    "\n",
    "plt.bar(y_pos, context_switch_mean, align='center', alpha=0.5)\n",
    "plt.xticks(y_pos, objects)\n",
    "plt.ylabel('')\n",
    "plt.title('Context switch')\n",
    "\n",
    "plt.show()"
   ]
  },
  {
   "cell_type": "code",
   "execution_count": 24,
   "id": "given-component",
   "metadata": {},
   "outputs": [
    {
     "data": {
      "image/png": "[encoded data removed]",
      "text/plain": [
       "<Figure size 640x480 with 1 Axes>"
      ]
     },
     "metadata": {},
     "output_type": "display_data"
    }
   ],
   "source": [
    "objects = ('FCFS', 'Priority', 'PriorityP', 'RR 2', 'RR 5', 'RR 10', 'SJF', 'SJFP')\n",
    "\n",
    "y_pos = np.arange(len(objects))\n",
    "\n",
    "\n",
    "plt.bar(y_pos, number_of_processes, align='center', alpha=0.5)\n",
    "plt.xticks(y_pos, objects)\n",
    "plt.ylabel('')\n",
    "plt.title('Número de processos')\n",
    "\n",
    "plt.show()"
   ]
  },
  {
   "cell_type": "code",
   "execution_count": null,
   "id": "stone-range",
   "metadata": {},
   "outputs": [],
   "source": []
  }
 ],
 "metadata": {
  "kernelspec": {
   "display_name": "Python 3",
   "language": "python",
   "name": "python3"
  },
  "language_info": {
   "codemirror_mode": {
    "name": "ipython",
    "version": 3
   },
   "file_extension": ".py",
   "mimetype": "text/x-python",
   "name": "python",
   "nbconvert_exporter": "python",
   "pygments_lexer": "ipython3",
   "version": "3.8.2"
  }
 },
 "nbformat": 4,
 "nbformat_minor": 5
}
